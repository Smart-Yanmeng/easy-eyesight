{
 "cells": [
  {
   "cell_type": "code",
   "execution_count": 17,
   "id": "initial_id",
   "metadata": {
    "collapsed": true,
    "ExecuteTime": {
     "end_time": "2024-04-16T20:59:03.034607Z",
     "start_time": "2024-04-16T20:59:03.020475Z"
    }
   },
   "source": [
    "import os\n",
    "import yaml\n",
    "import numpy as np\n",
    "import insightface\n",
    "from random import choice\n",
    "import cv2\n",
    "from sklearn import preprocessing\n",
    "\n",
    "\n",
    "# Deploy Configuration File Parser\n",
    "class DeployConfig:\n",
    "    def __init__(self, conf_file):\n",
    "        if not os.path.exists(conf_file):\n",
    "            raise Exception('Config file path [%s] invalid!' % conf_file)\n",
    "\n",
    "        with open(conf_file) as fp:\n",
    "            configs = yaml.load(fp, Loader=yaml.FullLoader)\n",
    "            deploy_conf = configs[\"FACE\"]\n",
    "            # 正数为GPU的ID，负数为使用CPU\n",
    "            self.gpu_id = deploy_conf[\"GPU_ID\"]\n",
    "            self.face_db = deploy_conf[\"FACE_DB\"]\n",
    "            self.threshold = deploy_conf[\"THRESHOLD\"]\n",
    "            self.nms = deploy_conf[\"NMS\"]\n",
    "\n",
    "\n",
    "class FaceRecognition:\n",
    "    def __init__(self, conf_file):\n",
    "        self.config = DeployConfig(conf_file)\n",
    "        # 加载人脸识别模型\n",
    "        self.model = insightface.app.FaceAnalysis()\n",
    "        self.model.prepare(ctx_id=self.config.gpu_id, nms=self.config.nms)\n",
    "        # 人脸库的人脸特征\n",
    "        self.faces_embedding = list()\n",
    "        # 加载人脸库中的人脸\n",
    "        self.load_faces(self.config.face_db)\n",
    "\n",
    "    # 加载人脸库中的人脸\n",
    "    def load_faces(self, face_db_path):\n",
    "        if not os.path.exists(face_db_path):\n",
    "            os.makedirs(face_db_path)\n",
    "        for root, dirs, files in os.walk(face_db_path):\n",
    "            for file in files:\n",
    "                input_image = cv2.imdecode(np.fromfile(os.path.join(root, file), dtype=np.uint8), 1)\n",
    "                user_id = file.split(\".\")[0]\n",
    "                face = self.model.get(input_image)[0]\n",
    "                embedding = np.array(face.embedding).reshape((1, -1))\n",
    "                embedding = preprocessing.normalize(embedding)\n",
    "                self.faces_embedding.append({\n",
    "                    \"user_id\": user_id,\n",
    "                    \"feature\": embedding\n",
    "                })\n",
    "\n",
    "    def recognition(self, image):\n",
    "        faces = self.model.get(image)\n",
    "        results = list()\n",
    "        for face in faces:\n",
    "            result = dict()\n",
    "            # 获取人脸属性\n",
    "            result[\"bbox\"] = np.array(face.bbox).astype(np.int32).tolist()\n",
    "            result[\"landmark\"] = np.array(face.landmark).astype(np.int32).tolist()\n",
    "            result[\"age\"] = face.age\n",
    "            gender = '男'\n",
    "            if face.gender == 0:\n",
    "                gender = '女'\n",
    "            result[\"gender\"] = gender\n",
    "            # 开始人脸识别\n",
    "            embedding = np.array(face.embedding).reshape((1, -1))\n",
    "            embedding = preprocessing.normalize(embedding)\n",
    "            result[\"user_id\"] = \"unknown\"\n",
    "            for com_face in self.faces_embedding:\n",
    "                r = self.feature_compare(embedding, com_face[\"feature\"], self.config.threshold)\n",
    "                if r:\n",
    "                    result[\"user_id\"] = com_face[\"user_id\"]\n",
    "            results.append(result)\n",
    "        return results\n",
    "\n",
    "    @staticmethod\n",
    "    def feature_compare(feature1, feature2, threshold):\n",
    "        diff = np.subtract(feature1, feature2)\n",
    "        dist = np.sum(np.square(diff), 1)\n",
    "        if dist < threshold:\n",
    "            return True\n",
    "        else:\n",
    "            return False\n",
    "\n",
    "    def register(self, image):\n",
    "        faces = self.model.get(image)\n",
    "        if len(faces) != 1:\n",
    "            return None\n",
    "        # 判断人脸是否存在\n",
    "        embedding = np.array(faces[0].embedding).reshape((1, -1))\n",
    "        embedding = preprocessing.normalize(embedding)\n",
    "        is_exits = False\n",
    "        for com_face in self.faces_embedding:\n",
    "            r = self.feature_compare(embedding, com_face[\"feature\"], self.config.threshold)\n",
    "            if r:\n",
    "                is_exits = True\n",
    "        if is_exits:\n",
    "            return None\n",
    "        old_user_id = [d[\"user_id\"] for d in self.faces_embedding]\n",
    "        user_id = self.get_user_id(old_user_id)\n",
    "        # 符合注册条件保存图片，同时把特征添加到人脸特征库中\n",
    "        cv2.imencode('.png', image)[1].tofile(os.path.join(self.config.face_db, '%s.png' % user_id))\n",
    "        self.faces_embedding.append({\n",
    "            \"user_id\": user_id,\n",
    "            \"feature\": embedding\n",
    "        })\n",
    "        return user_id\n",
    "\n",
    "    def get_user_id(self, old_user_id):\n",
    "        print(old_user_id)\n",
    "        while True:\n",
    "            user_id = \"\".join([choice(\"0123456789ABCDEF\") for i in range(8)])\n",
    "            if user_id not in old_user_id:\n",
    "                break\n",
    "        return user_id"
   ],
   "outputs": []
  },
  {
   "cell_type": "code",
   "source": [
    "if __name__ == '__main__':\n",
    "    img = cv2.imread(\"test.png\")\n",
    "    face_recognitio = FaceRecognition(\"config.yml\")\n",
    "    user_id = face_recognitio.register(img)\n",
    "    print(user_id)"
   ],
   "metadata": {
    "collapsed": false,
    "ExecuteTime": {
     "end_time": "2024-04-16T20:59:03.067375Z",
     "start_time": "2024-04-16T20:59:03.035615Z"
    }
   },
   "id": "545baf48a872763d",
   "execution_count": 18,
   "outputs": []
  },
  {
   "cell_type": "code",
   "source": [
    "if __name__ == '__main__':\n",
    "    img = cv2.imread(\"test2.png\")\n",
    "    face_recognitio = FaceRecognition(\"./settings/config.yml\")\n",
    "    result = face_recognitio.recognition(img)\n",
    "    print(result)"
   ],
   "metadata": {
    "collapsed": false,
    "ExecuteTime": {
     "end_time": "2024-04-16T20:59:03.118309Z",
     "start_time": "2024-04-16T20:59:03.074899Z"
    }
   },
   "id": "cff30fa0727fc94a",
   "execution_count": 19,
   "outputs": []
  },
  {
   "cell_type": "code",
   "source": [],
   "metadata": {
    "collapsed": false,
    "ExecuteTime": {
     "start_time": "2024-04-16T20:59:03.119315Z"
    }
   },
   "id": "1ff9a8aea5aa5af1",
   "execution_count": null,
   "outputs": []
  }
 ],
 "metadata": {
  "kernelspec": {
   "display_name": "Python 3",
   "language": "python",
   "name": "python3"
  },
  "language_info": {
   "codemirror_mode": {
    "name": "ipython",
    "version": 2
   },
   "file_extension": ".py",
   "mimetype": "text/x-python",
   "name": "python",
   "nbconvert_exporter": "python",
   "pygments_lexer": "ipython2",
   "version": "2.7.6"
  }
 },
 "nbformat": 4,
 "nbformat_minor": 5
}
