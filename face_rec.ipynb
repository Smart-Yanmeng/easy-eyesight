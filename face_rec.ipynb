{
 "cells": [
  {
   "cell_type": "code",
   "execution_count": 20,
   "id": "initial_id",
   "metadata": {
    "collapsed": true,
    "ExecuteTime": {
     "end_time": "2024-04-16T21:01:05.985119Z",
     "start_time": "2024-04-16T21:01:05.970019Z"
    }
   },
   "outputs": [],
   "source": [
    "import os\n",
    "import yaml\n",
    "import numpy as np\n",
    "import insightface\n",
    "from random import choice\n",
    "import cv2\n",
    "from sklearn import preprocessing\n",
    "\n",
    "\n",
    "# Deploy Configuration File Parser\n",
    "class DeployConfig:\n",
    "    def __init__(self, conf_file):\n",
    "        if not os.path.exists(conf_file):\n",
    "            raise Exception('Config file path [%s] invalid!' % conf_file)\n",
    "\n",
    "        with open(conf_file) as fp:\n",
    "            configs = yaml.load(fp, Loader=yaml.FullLoader)\n",
    "            deploy_conf = configs[\"FACE\"]\n",
    "            # 正数为GPU的ID，负数为使用CPU\n",
    "            self.gpu_id = deploy_conf[\"GPU_ID\"]\n",
    "            self.face_db = deploy_conf[\"FACE_DB\"]\n",
    "            self.threshold = deploy_conf[\"THRESHOLD\"]\n",
    "            self.nms = deploy_conf[\"NMS\"]\n",
    "\n",
    "\n",
    "class FaceRecognition:\n",
    "    def __init__(self, conf_file):\n",
    "        self.config = DeployConfig(conf_file)\n",
    "        # 加载人脸识别模型\n",
    "        self.model = insightface.app.FaceAnalysis()\n",
    "        self.model.prepare(ctx_id=self.config.gpu_id, nms=self.config.nms)\n",
    "        # 人脸库的人脸特征\n",
    "        self.faces_embedding = list()\n",
    "        # 加载人脸库中的人脸\n",
    "        self.load_faces(self.config.face_db)\n",
    "\n",
    "    # 加载人脸库中的人脸\n",
    "    def load_faces(self, face_db_path):\n",
    "        if not os.path.exists(face_db_path):\n",
    "            os.makedirs(face_db_path)\n",
    "        for root, dirs, files in os.walk(face_db_path):\n",
    "            for file in files:\n",
    "                input_image = cv2.imdecode(np.fromfile(os.path.join(root, file), dtype=np.uint8), 1)\n",
    "                user_id = file.split(\".\")[0]\n",
    "                face = self.model.get(input_image)[0]\n",
    "                embedding = np.array(face.embedding).reshape((1, -1))\n",
    "                embedding = preprocessing.normalize(embedding)\n",
    "                self.faces_embedding.append({\n",
    "                    \"user_id\": user_id,\n",
    "                    \"feature\": embedding\n",
    "                })\n",
    "\n",
    "    def recognition(self, image):\n",
    "        faces = self.model.get(image)\n",
    "        results = list()\n",
    "        for face in faces:\n",
    "            result = dict()\n",
    "            # 获取人脸属性\n",
    "            result[\"bbox\"] = np.array(face.bbox).astype(np.int32).tolist()\n",
    "            result[\"landmark\"] = np.array(face.landmark).astype(np.int32).tolist()\n",
    "            result[\"age\"] = face.age\n",
    "            gender = '男'\n",
    "            if face.gender == 0:\n",
    "                gender = '女'\n",
    "            result[\"gender\"] = gender\n",
    "            # 开始人脸识别\n",
    "            embedding = np.array(face.embedding).reshape((1, -1))\n",
    "            embedding = preprocessing.normalize(embedding)\n",
    "            result[\"user_id\"] = \"unknown\"\n",
    "            for com_face in self.faces_embedding:\n",
    "                r = self.feature_compare(embedding, com_face[\"feature\"], self.config.threshold)\n",
    "                if r:\n",
    "                    result[\"user_id\"] = com_face[\"user_id\"]\n",
    "            results.append(result)\n",
    "        return results\n",
    "\n",
    "    @staticmethod\n",
    "    def feature_compare(feature1, feature2, threshold):\n",
    "        diff = np.subtract(feature1, feature2)\n",
    "        dist = np.sum(np.square(diff), 1)\n",
    "        if dist < threshold:\n",
    "            return True\n",
    "        else:\n",
    "            return False\n",
    "\n",
    "    def register(self, image):\n",
    "        faces = self.model.get(image)\n",
    "        if len(faces) != 1:\n",
    "            return None\n",
    "        # 判断人脸是否存在\n",
    "        embedding = np.array(faces[0].embedding).reshape((1, -1))\n",
    "        embedding = preprocessing.normalize(embedding)\n",
    "        is_exits = False\n",
    "        for com_face in self.faces_embedding:\n",
    "            r = self.feature_compare(embedding, com_face[\"feature\"], self.config.threshold)\n",
    "            if r:\n",
    "                is_exits = True\n",
    "        if is_exits:\n",
    "            return None\n",
    "        old_user_id = [d[\"user_id\"] for d in self.faces_embedding]\n",
    "        user_id = self.get_user_id(old_user_id)\n",
    "        # 符合注册条件保存图片，同时把特征添加到人脸特征库中\n",
    "        cv2.imencode('.png', image)[1].tofile(os.path.join(self.config.face_db, '%s.png' % user_id))\n",
    "        self.faces_embedding.append({\n",
    "            \"user_id\": user_id,\n",
    "            \"feature\": embedding\n",
    "        })\n",
    "        return user_id\n",
    "\n",
    "    def get_user_id(self, old_user_id):\n",
    "        print(old_user_id)\n",
    "        while True:\n",
    "            user_id = \"\".join([choice(\"0123456789ABCDEF\") for i in range(8)])\n",
    "            if user_id not in old_user_id:\n",
    "                break\n",
    "        return user_id"
   ]
  },
  {
   "cell_type": "code",
   "outputs": [
    {
     "ename": "NameError",
     "evalue": "name '__file__' is not defined",
     "output_type": "error",
     "traceback": [
      "\u001B[1;31m---------------------------------------------------------------------------\u001B[0m",
      "\u001B[1;31mNameError\u001B[0m                                 Traceback (most recent call last)",
      "Cell \u001B[1;32mIn[28], line 5\u001B[0m\n\u001B[0;32m      3\u001B[0m \u001B[38;5;28;01mif\u001B[39;00m \u001B[38;5;18m__name__\u001B[39m \u001B[38;5;241m==\u001B[39m \u001B[38;5;124m'\u001B[39m\u001B[38;5;124m__main__\u001B[39m\u001B[38;5;124m'\u001B[39m:\n\u001B[0;32m      4\u001B[0m     img \u001B[38;5;241m=\u001B[39m cv2\u001B[38;5;241m.\u001B[39mimread(\u001B[38;5;124m\"\u001B[39m\u001B[38;5;124mtest.png\u001B[39m\u001B[38;5;124m\"\u001B[39m)\n\u001B[1;32m----> 5\u001B[0m     \u001B[38;5;28mprint\u001B[39m(os\u001B[38;5;241m.\u001B[39mpath\u001B[38;5;241m.\u001B[39mdirname(os\u001B[38;5;241m.\u001B[39mpath\u001B[38;5;241m.\u001B[39mabspath(\u001B[38;5;18;43m__file__\u001B[39;49m)))\n\u001B[0;32m      6\u001B[0m     face_recognitio \u001B[38;5;241m=\u001B[39m FaceRecognition(\u001B[38;5;124m\"\u001B[39m\u001B[38;5;124mconfig.yml\u001B[39m\u001B[38;5;124m\"\u001B[39m)\n\u001B[0;32m      7\u001B[0m     user_id \u001B[38;5;241m=\u001B[39m face_recognitio\u001B[38;5;241m.\u001B[39mregister(img)\n",
      "\u001B[1;31mNameError\u001B[0m: name '__file__' is not defined"
     ]
    }
   ],
   "source": [
    "import sys\n",
    "\n",
    "if __name__ == '__main__':\n",
    "    img = cv2.imread(\"test.png\")\n",
    "    face_recognitio = FaceRecognition(\"config.yml\")\n",
    "    user_id = face_recognitio.register(img)\n",
    "    print(user_id)"
   ],
   "metadata": {
    "collapsed": false,
    "ExecuteTime": {
     "end_time": "2024-04-16T21:03:40.510761Z",
     "start_time": "2024-04-16T21:03:40.494153Z"
    }
   },
   "id": "545baf48a872763d",
   "execution_count": 28
  },
  {
   "cell_type": "code",
   "outputs": [
    {
     "ename": "Exception",
     "evalue": "Config file path [./settings/config.yml] invalid!",
     "output_type": "error",
     "traceback": [
      "\u001B[1;31m---------------------------------------------------------------------------\u001B[0m",
      "\u001B[1;31mException\u001B[0m                                 Traceback (most recent call last)",
      "Cell \u001B[1;32mIn[19], line 3\u001B[0m\n\u001B[0;32m      1\u001B[0m \u001B[38;5;28;01mif\u001B[39;00m \u001B[38;5;18m__name__\u001B[39m \u001B[38;5;241m==\u001B[39m \u001B[38;5;124m'\u001B[39m\u001B[38;5;124m__main__\u001B[39m\u001B[38;5;124m'\u001B[39m:\n\u001B[0;32m      2\u001B[0m     img \u001B[38;5;241m=\u001B[39m cv2\u001B[38;5;241m.\u001B[39mimread(\u001B[38;5;124m\"\u001B[39m\u001B[38;5;124mtest2.png\u001B[39m\u001B[38;5;124m\"\u001B[39m)\n\u001B[1;32m----> 3\u001B[0m     face_recognitio \u001B[38;5;241m=\u001B[39m \u001B[43mFaceRecognition\u001B[49m\u001B[43m(\u001B[49m\u001B[38;5;124;43m\"\u001B[39;49m\u001B[38;5;124;43m./settings/config.yml\u001B[39;49m\u001B[38;5;124;43m\"\u001B[39;49m\u001B[43m)\u001B[49m\n\u001B[0;32m      4\u001B[0m     result \u001B[38;5;241m=\u001B[39m face_recognitio\u001B[38;5;241m.\u001B[39mrecognition(img)\n\u001B[0;32m      5\u001B[0m     \u001B[38;5;28mprint\u001B[39m(result)\n",
      "Cell \u001B[1;32mIn[17], line 28\u001B[0m, in \u001B[0;36mFaceRecognition.__init__\u001B[1;34m(self, conf_file)\u001B[0m\n\u001B[0;32m     27\u001B[0m \u001B[38;5;28;01mdef\u001B[39;00m \u001B[38;5;21m__init__\u001B[39m(\u001B[38;5;28mself\u001B[39m, conf_file):\n\u001B[1;32m---> 28\u001B[0m     \u001B[38;5;28mself\u001B[39m\u001B[38;5;241m.\u001B[39mconfig \u001B[38;5;241m=\u001B[39m \u001B[43mDeployConfig\u001B[49m\u001B[43m(\u001B[49m\u001B[43mconf_file\u001B[49m\u001B[43m)\u001B[49m\n\u001B[0;32m     29\u001B[0m     \u001B[38;5;66;03m# 加载人脸识别模型\u001B[39;00m\n\u001B[0;32m     30\u001B[0m     \u001B[38;5;28mself\u001B[39m\u001B[38;5;241m.\u001B[39mmodel \u001B[38;5;241m=\u001B[39m insightface\u001B[38;5;241m.\u001B[39mapp\u001B[38;5;241m.\u001B[39mFaceAnalysis()\n",
      "Cell \u001B[1;32mIn[17], line 14\u001B[0m, in \u001B[0;36mDeployConfig.__init__\u001B[1;34m(self, conf_file)\u001B[0m\n\u001B[0;32m     12\u001B[0m \u001B[38;5;28;01mdef\u001B[39;00m \u001B[38;5;21m__init__\u001B[39m(\u001B[38;5;28mself\u001B[39m, conf_file):\n\u001B[0;32m     13\u001B[0m     \u001B[38;5;28;01mif\u001B[39;00m \u001B[38;5;129;01mnot\u001B[39;00m os\u001B[38;5;241m.\u001B[39mpath\u001B[38;5;241m.\u001B[39mexists(conf_file):\n\u001B[1;32m---> 14\u001B[0m         \u001B[38;5;28;01mraise\u001B[39;00m \u001B[38;5;167;01mException\u001B[39;00m(\u001B[38;5;124m'\u001B[39m\u001B[38;5;124mConfig file path [\u001B[39m\u001B[38;5;132;01m%s\u001B[39;00m\u001B[38;5;124m] invalid!\u001B[39m\u001B[38;5;124m'\u001B[39m \u001B[38;5;241m%\u001B[39m conf_file)\n\u001B[0;32m     16\u001B[0m     \u001B[38;5;28;01mwith\u001B[39;00m \u001B[38;5;28mopen\u001B[39m(conf_file) \u001B[38;5;28;01mas\u001B[39;00m fp:\n\u001B[0;32m     17\u001B[0m         configs \u001B[38;5;241m=\u001B[39m yaml\u001B[38;5;241m.\u001B[39mload(fp, Loader\u001B[38;5;241m=\u001B[39myaml\u001B[38;5;241m.\u001B[39mFullLoader)\n",
      "\u001B[1;31mException\u001B[0m: Config file path [./settings/config.yml] invalid!"
     ]
    }
   ],
   "source": [
    "if __name__ == '__main__':\n",
    "    img = cv2.imread(\"test2.png\")\n",
    "    face_recognitio = FaceRecognition(\"./settings/config.yml\")\n",
    "    result = face_recognitio.recognition(img)\n",
    "    print(result)"
   ],
   "metadata": {
    "collapsed": false,
    "ExecuteTime": {
     "end_time": "2024-04-16T20:59:03.118309Z",
     "start_time": "2024-04-16T20:59:03.074899Z"
    }
   },
   "id": "cff30fa0727fc94a",
   "execution_count": 19
  }
 ],
 "metadata": {
  "kernelspec": {
   "display_name": "Python 3",
   "language": "python",
   "name": "python3"
  },
  "language_info": {
   "codemirror_mode": {
    "name": "ipython",
    "version": 2
   },
   "file_extension": ".py",
   "mimetype": "text/x-python",
   "name": "python",
   "nbconvert_exporter": "python",
   "pygments_lexer": "ipython2",
   "version": "2.7.6"
  }
 },
 "nbformat": 4,
 "nbformat_minor": 5
}
